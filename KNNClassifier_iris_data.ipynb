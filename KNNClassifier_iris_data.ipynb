{
 "cells": [
  {
   "cell_type": "code",
   "execution_count": 2,
   "id": "cd656949",
   "metadata": {},
   "outputs": [
    {
     "name": "stdout",
     "output_type": "stream",
     "text": [
      "Requirement already satisfied: scikit-learn in c:\\users\\swathi\\appdata\\local\\programs\\python\\python311\\lib\\site-packages (1.3.0)\n",
      "Requirement already satisfied: numpy>=1.17.3 in c:\\users\\swathi\\appdata\\local\\programs\\python\\python311\\lib\\site-packages (from scikit-learn) (1.24.3)\n",
      "Requirement already satisfied: scipy>=1.5.0 in c:\\users\\swathi\\appdata\\local\\programs\\python\\python311\\lib\\site-packages (from scikit-learn) (1.11.1)\n",
      "Requirement already satisfied: joblib>=1.1.1 in c:\\users\\swathi\\appdata\\local\\programs\\python\\python311\\lib\\site-packages (from scikit-learn) (1.3.1)\n",
      "Requirement already satisfied: threadpoolctl>=2.0.0 in c:\\users\\swathi\\appdata\\local\\programs\\python\\python311\\lib\\site-packages (from scikit-learn) (3.2.0)\n"
     ]
    }
   ],
   "source": [
    "!pip install scikit-learn\n"
   ]
  },
  {
   "cell_type": "code",
   "execution_count": 10,
   "id": "03df9ea2",
   "metadata": {},
   "outputs": [
    {
     "name": "stdout",
     "output_type": "stream",
     "text": [
      "TARGET= 1 versicolor PREDICTED= [1] ['versicolor']\n",
      "TARGET= 0 setosa PREDICTED= [0] ['setosa']\n",
      "TARGET= 2 virginica PREDICTED= [2] ['virginica']\n",
      "TARGET= 1 versicolor PREDICTED= [1] ['versicolor']\n",
      "TARGET= 1 versicolor PREDICTED= [1] ['versicolor']\n",
      "TARGET= 0 setosa PREDICTED= [0] ['setosa']\n",
      "TARGET= 1 versicolor PREDICTED= [1] ['versicolor']\n",
      "TARGET= 2 virginica PREDICTED= [2] ['virginica']\n",
      "TARGET= 1 versicolor PREDICTED= [1] ['versicolor']\n",
      "TARGET= 1 versicolor PREDICTED= [1] ['versicolor']\n",
      "TARGET= 2 virginica PREDICTED= [2] ['virginica']\n",
      "TARGET= 0 setosa PREDICTED= [0] ['setosa']\n",
      "TARGET= 0 setosa PREDICTED= [0] ['setosa']\n",
      "TARGET= 0 setosa PREDICTED= [0] ['setosa']\n",
      "TARGET= 0 setosa PREDICTED= [0] ['setosa']\n",
      "TARGET= 1 versicolor PREDICTED= [1] ['versicolor']\n",
      "TARGET= 2 virginica PREDICTED= [2] ['virginica']\n",
      "TARGET= 1 versicolor PREDICTED= [1] ['versicolor']\n",
      "TARGET= 1 versicolor PREDICTED= [1] ['versicolor']\n",
      "TARGET= 2 virginica PREDICTED= [2] ['virginica']\n",
      "TARGET= 0 setosa PREDICTED= [0] ['setosa']\n",
      "TARGET= 2 virginica PREDICTED= [2] ['virginica']\n",
      "TARGET= 0 setosa PREDICTED= [0] ['setosa']\n",
      "TARGET= 2 virginica PREDICTED= [2] ['virginica']\n",
      "TARGET= 2 virginica PREDICTED= [2] ['virginica']\n",
      "TARGET= 2 virginica PREDICTED= [2] ['virginica']\n",
      "TARGET= 2 virginica PREDICTED= [2] ['virginica']\n",
      "TARGET= 2 virginica PREDICTED= [2] ['virginica']\n",
      "TARGET= 0 setosa PREDICTED= [0] ['setosa']\n",
      "TARGET= 0 setosa PREDICTED= [0] ['setosa']\n",
      "TARGET= 0 setosa PREDICTED= [0] ['setosa']\n",
      "TARGET= 0 setosa PREDICTED= [0] ['setosa']\n",
      "TARGET= 1 versicolor PREDICTED= [1] ['versicolor']\n",
      "TARGET= 0 setosa PREDICTED= [0] ['setosa']\n",
      "TARGET= 0 setosa PREDICTED= [0] ['setosa']\n",
      "TARGET= 2 virginica PREDICTED= [2] ['virginica']\n",
      "TARGET= 1 versicolor PREDICTED= [1] ['versicolor']\n",
      "TARGET= 0 setosa PREDICTED= [0] ['setosa']\n",
      "1.0\n"
     ]
    }
   ],
   "source": [
    "from sklearn.datasets import load_iris                   ##loading iris data\n",
    "from sklearn.neighbors import KNeighborsClassifier\n",
    "from sklearn.model_selection import train_test_split\n",
    "import numpy as np\n",
    "\n",
    "\n",
    "dataset = load_iris()\n",
    "\n",
    "X_train, X_test, y_train, y_test = train_test_split(dataset[\"data\"], dataset[\"target\"], random_state=42)\n",
    "\n",
    "kn = KNeighborsClassifier(n_neighbors=1)\n",
    "kn.fit(X_train, y_train)\n",
    "\n",
    "for i in range(len(X_test)):\n",
    "    x = X_test[i]\n",
    "    x_new = np.array([x])\n",
    "    prediction = kn.predict(x_new)\n",
    "    print(\"TARGET=\", y_test[i], dataset[\"target_names\"][y_test[i]], \"PREDICTED=\", prediction, dataset[\"target_names\"][prediction])\n",
    "\n",
    "print(kn.score(X_test, y_test))"
   ]
  },
  {
   "cell_type": "code",
   "execution_count": null,
   "id": "c688c8b3",
   "metadata": {},
   "outputs": [],
   "source": []
  },
  {
   "cell_type": "code",
   "execution_count": null,
   "id": "f9cc3e76",
   "metadata": {},
   "outputs": [],
   "source": []
  }
 ],
 "metadata": {
  "kernelspec": {
   "display_name": "Python 3 (ipykernel)",
   "language": "python",
   "name": "python3"
  },
  "language_info": {
   "codemirror_mode": {
    "name": "ipython",
    "version": 3
   },
   "file_extension": ".py",
   "mimetype": "text/x-python",
   "name": "python",
   "nbconvert_exporter": "python",
   "pygments_lexer": "ipython3",
   "version": "3.11.2"
  }
 },
 "nbformat": 4,
 "nbformat_minor": 5
}
